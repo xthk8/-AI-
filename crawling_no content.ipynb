{
 "cells": [
  {
   "cell_type": "code",
   "execution_count": 1,
   "metadata": {},
   "outputs": [],
   "source": [
    "import requests\n",
    "from bs4 import BeautifulSoup\n",
    "import pyautogui\n",
    "\n",
    "def cralling (keyword, lastpage):\n",
    "\n",
    "    #keyword = pyautogui.prompt(\"검색어를 입력하세요.\")\n",
    "    #lastpage = pyautogui.prompt(\"몇 페이지까지 검색할까요?\")\n",
    "    pageNum = 1\n",
    "\n",
    "    for i in range(1 , int(lastpage) * 10 , 10) :\n",
    "        print(f\"\\n{pageNum}페이지의 기사 ===================================================================\\n\")\n",
    "        response = requests.get(f\"https://search.naver.com/search.naver?where=news&sm=tab_jum&query={keyword}&start={i}\")\n",
    "        html = response.text\n",
    "        soup = BeautifulSoup(html, 'html.parser')\n",
    "        links = soup.select(\".news_tit\")\n",
    "        \n",
    "        for link in links:\n",
    "            title = link.text\n",
    "            url = link.attrs['href']\n",
    "            print(title, url)\n",
    "            \n",
    "        pageNum += 1"
   ]
  },
  {
   "cell_type": "code",
   "execution_count": 2,
   "metadata": {},
   "outputs": [
    {
     "name": "stdout",
     "output_type": "stream",
     "text": [
      "\n",
      "1페이지의 기사 ===================================================================\n",
      "\n",
      "삼성·SK 中공장에 미국산 반도체장비 공급 무기한 허용된다(종합) https://www.yna.co.kr/view/AKR20231009044151001?input=1195m\n",
      "삼성전자, 美 '테크 포럼'…한종희 \"미래 도전 함께 하자\" http://www.newsis.com/view/?id=NISX20231009_0002475721&cID=13001&pID=13000\n",
      "대통령실 “美, 삼성·SK 中공장에 별도 허가 없이 장비 공급 결정” https://biz.chosun.com/policy/politics/2023/10/09/YW5KLJK3MJAEZID73XDW23ZVU4/?utm_source=naver&utm_medium=original&utm_campaign=biz\n",
      "한종희, 美 인재들에게 \"삼성전자는 세계 최고 직장…도전 함께 하자\" http://www.edaily.co.kr/news/newspath.asp?newsid=01423526635771280\n",
      "삼성·현대차 ‘밀월’ 가속…삼성전기, 현대차 1차 협력사 선정 https://www.mk.co.kr/article/10845546\n",
      "\"부자 기운 받자\"…삼성 세운 호암 생가에 하루 수백명 '우르르' https://www.hankyung.com/article/2023100952371\n",
      "삼성전자, '엑시노스의 귀환'…고성능 AP 전열 다진다 http://www.newsis.com/view/?id=NISX20231006_0002474630&cID=13001&pID=13000\n",
      "대통령실 \"美, 삼성·SK 中반도체공장에 장비공급 허용\" http://news.tvchosun.com/site/data/html_dir/2023/10/09/2023100990121.html\n",
      "삼성전자 스마트싱스 팀장 \"스마트홈 전세계에서 삼성이 선도\" https://www.yna.co.kr/view/AKR20231006056800091?input=1195m\n",
      "내년부터 운전면허증이 삼성페이에 쏙...지갑 없는 세상 앞당긴다 https://www.chosun.com/economy/tech_it/2023/10/08/PDUUBVMHSBFE5HJQPZYDECAA3E/?utm_source=naver&utm_medium=referral&utm_campaign=naver-news\n"
     ]
    }
   ],
   "source": [
    "cralling('삼성', 1)"
   ]
  },
  {
   "cell_type": "code",
   "execution_count": null,
   "metadata": {},
   "outputs": [],
   "source": []
  }
 ],
 "metadata": {
  "kernelspec": {
   "display_name": "base",
   "language": "python",
   "name": "python3"
  },
  "language_info": {
   "codemirror_mode": {
    "name": "ipython",
    "version": 3
   },
   "file_extension": ".py",
   "mimetype": "text/x-python",
   "name": "python",
   "nbconvert_exporter": "python",
   "pygments_lexer": "ipython3",
   "version": "3.9.13"
  },
  "orig_nbformat": 4
 },
 "nbformat": 4,
 "nbformat_minor": 2
}
